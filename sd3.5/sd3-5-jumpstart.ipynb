{
 "cells": [
  {
   "cell_type": "markdown",
   "id": "30d8ea02-09c1-4c07-b6c6-e5651151043d",
   "metadata": {},
   "source": [
    "# <a id='toc1_'></a>[Using SD3.5 with AWS JumpStart](#toc0_)\n",
    "\n",
    "This sample notebook shows you how to deploy Stable Diffusion 3.5 (SD3.5) Large from Stability AI as an endpoint on Amazon SageMaker.\n",
    "\n",
    "> **Note**: This is a reference notebook and it cannot run unless you make changes suggested in the notebook.\n",
    "\n",
    "\n",
    "## <a id='toc1_1_'></a>[Prerequisites](#toc0_)\n",
    "\n",
    "1. **Note**: Open this notebook from an Amazon SageMaker Notebook Instance or Amazon SageMaker Studio.\n",
    "\n",
    "1. Ensure that IAM role used has **AmazonSageMakerFullAccess**\n",
    "\n",
    "1. To deploy the ML model successfully using the steps in this notebook, ensure that either:\n",
    "    1. Your IAM role has the following three permissions and you have authority to make AWS Marketplace subscriptions in the AWS account used: \n",
    "        1. **aws-marketplace:ViewSubscriptions**\n",
    "        1. **aws-marketplace:Unsubscribe**\n",
    "        1. **aws-marketplace:Subscribe**  \n",
    "    2. Or your AWS account has a subscription to [the Stable Diffusion 3.5 Large Jumpstart]. If so, skip step: [Subscribe to the model package](#1.-Subscribe-to-the-model-package) \n",
    "\n",
    "\n",
    "\n",
    "\n",
    "## <a id='toc1_2_'></a>[Resources](#toc0_)\n",
    "\n",
    "\n",
    "1. [Stability Stable Diffusion 3.5 Large documentation](https://platform.stability.ai/docs/api-reference#tag/Generate/paths/~1v2beta~1stable-image~1generate~1sd3/post)\n",
    "\n",
    "2. [Documentation on real-time inference with Amazon SageMaker](https://docs.aws.amazon.com/sagemaker/latest/dg/how-it-works-hosting.html).\n",
    "\n",
    "\n",
    "## <a id='toc1_3_'></a>[Usage instructions](#toc0_)\n",
    "You can run this notebook one cell at a time (By using Shift+Enter for running a cell).\n"
   ]
  },
  {
   "cell_type": "markdown",
   "id": "923eaee0-33f2-43d3-a223-b774b728ce24",
   "metadata": {
    "tags": []
   },
   "source": [
    "   \n",
    "- [1. Subscribe to the SD3.5 Model Package](#toc3_)    \n",
    "- [2: Create an endpoint and perform real-time inference](#toc4_)    \n",
    "  - [A: Text to image](#toc4_1_)    \n",
    "  - [B: Image to image](#toc4_2_)    \n",
    "- [3: Delete the endpoint](#toc5_)    \n",
    "\n",
    "<!-- vscode-jupyter-toc-config\n",
    "\tnumbering=false\n",
    "\tanchor=true\n",
    "\tflat=false\n",
    "\tminLevel=1\n",
    "\tmaxLevel=6\n",
    "\t/vscode-jupyter-toc-config -->\n",
    "<!-- THIS CELL WILL BE REPLACED ON TOC UPDATE. DO NOT WRITE YOUR TEXT IN THIS CELL -->"
   ]
  },
  {
   "cell_type": "markdown",
   "id": "1bd4a756",
   "metadata": {},
   "source": [
    "# <a id='toc3_'></a>[1. Subscribe to the Stable Diffusion 3.5 Large Model Package](#toc0_)"
   ]
  },
  {
   "cell_type": "markdown",
   "id": "882541b4",
   "metadata": {},
   "source": [
    "To subscribe to the Stable Diffusion 3.5 Large Model Package:\n",
    "1. Open the Stable Diffusion 3.5 Large Model Package listing page: <<<   TODO >>>\n",
    "1. On the AWS Marketplace listing, click on the **Continue to subscribe** button.\n",
    "1. On the **Subscribe to this software** page, review and click on **\"Accept Offer\"** if you and your organization accept the EULA, pricing, and support terms."
   ]
  },
  {
   "cell_type": "code",
   "execution_count": null,
   "id": "2d895d8b-b81e-47d0-9d10-c082d4bc49e8",
   "metadata": {
    "tags": []
   },
   "outputs": [],
   "source": [
    "import sagemaker\n",
    "from sagemaker import ModelPackage, get_execution_role\n",
    "\n",
    "\n",
    "from PIL import Image\n",
    "from typing import Union, Tuple\n",
    "import io\n",
    "import os\n",
    "import base64\n",
    "import boto3\n",
    "import json"
   ]
  },
  {
   "cell_type": "markdown",
   "id": "b3ce34c5-9cf5-4d76-ac7c-93b09d0bd3f4",
   "metadata": {},
   "source": [
    "# <a id='toc4_'></a>[2: Create an endpoint and perform real-time inference](#toc0_)"
   ]
  },
  {
   "cell_type": "code",
   "execution_count": null,
   "id": "cb4bff77-8356-4386-a0b5-543ad0244edf",
   "metadata": {
    "tags": []
   },
   "outputs": [],
   "source": [
    "# Choose your endpoint name\n",
    "from sagemaker.utils import name_from_base\n",
    "endpoint_name=name_from_base('sd3-5-large-jumpstart') # change name as desired"
   ]
  },
  {
   "cell_type": "markdown",
   "id": "c7100a43-065c-4259-be46-2c0cd322e77f",
   "metadata": {},
   "source": [
    "Once you have subscribed to Stability Stable Diffusion 3.5 Large, get the Model Package ARN using the map below:\n"
   ]
  },
  {
   "cell_type": "code",
   "execution_count": null,
   "id": "166a13d1-edf6-4d38-b8ce-69a49d3013c3",
   "metadata": {
    "tags": []
   },
   "outputs": [],
   "source": [
    "\n",
    "model_package_map = {\n",
    "    \"us-east-1\": 'arn:aws:sagemaker:us-east-1:188650660114:model-package/sd3-5-large',\n",
    "    # \"us-east-2\": \"arn:aws:sagemaker:us-east-2:057799348421:model-package/sdxl-v1-0-8cc703e-43ceeb816ad635d18270e159eb5096ad\",\n",
    "    # \"us-west-2\": \"arn:aws:sagemaker:us-west-2:594846645681:model-package/sdxl-v1-0-8cc703e-43ceeb816ad635d18270e159eb5096ad\",\n",
    "    # \"ca-central-1\": \"arn:aws:sagemaker:ca-central-1:470592106596:model-package/sdxl-v1-0-8cc703e-43ceeb816ad635d18270e159eb5096ad\",\n",
    "    # \"eu-central-1\": \"arn:aws:sagemaker:eu-central-1:446921602837:model-package/sdxl-v1-0-8cc703e-43ceeb816ad635d18270e159eb5096ad\",\n",
    "    # \"eu-west-1\": \"arn:aws:sagemaker:eu-west-1:985815980388:model-package/sdxl-v1-0-8cc703e-43ceeb816ad635d18270e159eb5096ad\",\n",
    "    # \"eu-west-2\": \"arn:aws:sagemaker:eu-west-2:856760150666:model-package/sdxl-v1-0-8cc703e-43ceeb816ad635d18270e159eb5096ad\",\n",
    "    # \"ap-northeast-2\": \"arn:aws:sagemaker:ap-northeast-2:745090734665:model-package/sdxl-v1-0-8cc703e-43ceeb816ad635d18270e159eb5096ad\",\n",
    "    # \"ap-northeast-1\": \"arn:aws:sagemaker:ap-northeast-1:977537786026:model-package/sdxl-v1-0-8cc703e-43ceeb816ad635d18270e159eb5096ad\",\n",
    "    # \"ap-south-1\": \"arn:aws:sagemaker:ap-south-1:077584701553:model-package/sdxl-v1-0-8cc703e-43ceeb816ad635d18270e159eb5096ad\"\n",
    "}\n",
    "\n",
    "\n",
    "region = boto3.Session().region_name\n",
    "if region not in model_package_map.keys():\n",
    "    raise (\"UNSUPPORTED REGION\")\n",
    "package_arn = model_package_map[region]"
   ]
  },
  {
   "cell_type": "code",
   "execution_count": null,
   "id": "c207b551",
   "metadata": {},
   "outputs": [],
   "source": [
    "sagemaker_session = sagemaker.Session()"
   ]
  },
  {
   "cell_type": "code",
   "execution_count": null,
   "id": "fc51ce0f",
   "metadata": {},
   "outputs": [],
   "source": [
    "# Verify the active account\n",
    "sts_client = boto3.client(\"sts\")\n",
    "account_id = sts_client.get_caller_identity()[\"Account\"]\n",
    "print(f\"Active account ID: {account_id}\")"
   ]
  },
  {
   "cell_type": "markdown",
   "id": "d012a999-1be8-49d4-95e4-864bdbebe23b",
   "metadata": {},
   "source": [
    "Create a deployable `ModelPackage`. For SD3.5, deploy onto a ml.p5.48xlarge instance. Specify it as `instance_type` below.\n"
   ]
  },
  {
   "cell_type": "code",
   "execution_count": null,
   "id": "30dfa448-f6a8-48bc-946a-dc105f3b9487",
   "metadata": {
    "tags": []
   },
   "outputs": [],
   "source": [
    "\n",
    "model = ModelPackage(role=role,\n",
    "                     model_package_arn=package_arn,\n",
    "                     sagemaker_session=sagemaker_session)\n",
    "\n",
    "\n",
    "# Deploy the ModelPackage. This will take 20-25 minutes to run\n",
    "\n",
    "instance_type=\"ml.p5.48xlarge\"\n",
    "deployed_model = model.deploy(initial_instance_count=1,instance_type=instance_type,endpoint_name=endpoint_name)"
   ]
  },
  {
   "cell_type": "markdown",
   "id": "e718d463-4506-4099-a84c-7d117ed041b4",
   "metadata": {},
   "source": [
    "We can invoke our deployed model to return model outputs. For the full list of request parameters, [see the Stability.ai API documentation.](https://api.stability.ai/docs#tag/v1generation)\n",
    "\n",
    "## <a id='toc4_1_'></a>[A: Text to image](#toc0_)\n"
   ]
  },
  {
   "cell_type": "code",
   "execution_count": null,
   "id": "bc552165",
   "metadata": {},
   "outputs": [],
   "source": [
    "# Now we can invoke the model using boto\n",
    "sm_runtime = boto3.client(\"sagemaker-runtime\")\n",
    "\n",
    "params = {\n",
    "    \"prompt\": \"a high-def photograph of a fisherman on the beach, caribean island, storm clouds\",\n",
    "    \"seed\": 101,\n",
    "    \"aspect_ratio\": \"21:9\",\n",
    "    \"output_format\": \"jpeg\",\n",
    "}\n",
    "\n",
    "payload = json.dumps(params).encode(\"utf-8\")\n",
    "\n",
    "response = sm_runtime.invoke_endpoint(\n",
    "    EndpointName=endpoint_name,\n",
    "    ContentType=\"application/json\",\n",
    "    Accept=\"application/json\",\n",
    "    Body=payload,\n",
    ")\n",
    "\n",
    "out = json.loads(response[\"Body\"].read().decode(\"utf-8\"))\n",
    "try:\n",
    "    base64_string = out[\"body\"][\"images\"][0]\n",
    "    image_data = base64.b64decode(base64_string)\n",
    "    image = Image.open(io.BytesIO(image_data))\n",
    "    display(image)\n",
    "\n",
    "except:\n",
    "    print(out)\n"
   ]
  },
  {
   "cell_type": "code",
   "execution_count": null,
   "id": "b7fa1414",
   "metadata": {},
   "outputs": [],
   "source": [
    "out"
   ]
  },
  {
   "cell_type": "code",
   "execution_count": null,
   "id": "30383959-3490-4283-be0b-8c99d0a39a0c",
   "metadata": {
    "tags": []
   },
   "outputs": [],
   "source": [
    "\n",
    "params = {\n",
    "    \"prompt\": \"a mural of a toucan in bright, fresh colors painted on the side of a house in brazil\",\n",
    "    \"seed\": 3,\n",
    "    \"output_format\": \"jpeg\",\n",
    "}\n",
    "payload = json.dumps(params).encode(\"utf-8\")\n",
    "\n",
    "output = sm_runtime.invoke_endpoint(\n",
    "    EndpointName=endpoint_name,\n",
    "    ContentType=\"application/json\",\n",
    "    Accept=\"application/json\",\n",
    "    Body=payload,\n",
    ")"
   ]
  },
  {
   "cell_type": "markdown",
   "id": "c7893d0d-3e41-4ce9-a3f8-7afdc7fe5a30",
   "metadata": {},
   "source": [
    "Output images are included in the response body `images` as base64 encoded strings. Below is a helper function for accessing decoding these images:"
   ]
  },
  {
   "cell_type": "code",
   "execution_count": null,
   "id": "b4bdaa32-afa1-4c08-9568-07a2c916ba43",
   "metadata": {
    "tags": []
   },
   "outputs": [],
   "source": [
    "def decode_and_show(model_response: dict) -> None:\n",
    "    \"\"\"\n",
    "    Decodes and displays an image from SD3.5 output\n",
    "\n",
    "    Args:\n",
    "        model_response (dict): The response object from the deployed model.\n",
    "\n",
    "    Returns:\n",
    "        None\n",
    "    \"\"\"\n",
    "    out = json.loads(model_response[\"Body\"].read().decode(\"utf-8\"))\n",
    "    base64_string = out[\"body\"][\"images\"][0]\n",
    "    image_data = base64.b64decode(base64_string)\n",
    "    image = Image.open(io.BytesIO(image_data))\n",
    "    display(image)\n",
    "\n"
   ]
  },
  {
   "cell_type": "code",
   "execution_count": null,
   "id": "6ebd5a0d",
   "metadata": {},
   "outputs": [],
   "source": [
    "decode_and_show(output)"
   ]
  },
  {
   "cell_type": "code",
   "execution_count": null,
   "id": "4b249c4c",
   "metadata": {},
   "outputs": [],
   "source": [
    "params = {\n",
    "    \"prompt\": \"a selfie of a woman in a market in east aisa, holding a bag of groceries\",\n",
    "    \"seed\": 11111,\n",
    "    \"output_format\": \"jpeg\",\n",
    "}\n",
    "payload = json.dumps(params).encode(\"utf-8\")\n",
    "\n",
    "output = sm_runtime.invoke_endpoint(\n",
    "    EndpointName=endpoint_name,\n",
    "    ContentType=\"application/json\",\n",
    "    Accept=\"application/json\",\n",
    "    Body=payload,\n",
    ")\n",
    "decode_and_show(output)\n"
   ]
  },
  {
   "cell_type": "markdown",
   "id": "84a65323-d2aa-4e5a-97d5-f25643f194d4",
   "metadata": {},
   "source": [
    "Let's try generating a snippet of text."
   ]
  },
  {
   "cell_type": "code",
   "execution_count": null,
   "id": "33812218",
   "metadata": {},
   "outputs": [],
   "source": [
    "text = \"the word SD3.5 JUMPSTART written in neon lights\"\n",
    "\n",
    "params = {\n",
    "    \"prompt\": text,\n",
    "    \"seed\": 7,\n",
    "    \"output_format\": \"jpeg\",\n",
    "}\n",
    "payload = json.dumps(params).encode(\"utf-8\")\n",
    "\n",
    "output = sm_runtime.invoke_endpoint(\n",
    "    EndpointName=endpoint_name,\n",
    "    ContentType=\"application/json\",\n",
    "    Accept=\"application/json\",\n",
    "    Body=payload,\n",
    ")\n",
    "decode_and_show(output)"
   ]
  },
  {
   "cell_type": "markdown",
   "id": "ecfbe6dc",
   "metadata": {},
   "source": [
    "### Aspect ratios\n",
    "To control the size of a text-to-image request, pass in an aspect ratio from the list ` 16:9 1:1 21:9 2:3 3:2 4:5 5:4 9:16 9:21` as a string. The default aspect ratio is 1:1.\n",
    "\n",
    "For text banners, use aspect ratios corresponding to long images. Likewise, for best results, specify approprate aspect ratios for portraits, landscapes, and square images.\n",
    "\n",
    "Let's generate some unique text banners with the aspect ratio 21:9."
   ]
  },
  {
   "cell_type": "code",
   "execution_count": null,
   "id": "3a6355f4",
   "metadata": {},
   "outputs": [],
   "source": [
    "text_prompt = \"Create a bold and dynamic text design for the word 'ADHERENCE' with each letter filled with vibrant and high-fashion photography scenes. Incorporate a mix of models striking elegant poses, cameras flashing, and creative studio setups. Highlight the diversity of the modeling world with a variety of model expressions, runway moments, and behind-the-scenes shots. Use sleek, modern colors that reflect professionalism, creativity, and innovation, integrating camera lenses, softboxes, and fashion accessories within the letters to emphasize the photography and modeling theme. The overall design should feel high-end, artistic, and tailored for a professional audience.\"\n",
    "\n",
    "params = {\n",
    "    \"prompt\": text_prompt,\n",
    "    \"seed\": 1000,\n",
    "    \"aspect_ratio\": \"21:9\",\n",
    "    \"output_format\": \"jpeg\",\n",
    "}\n",
    "\n",
    "payload = json.dumps(params).encode(\"utf-8\")\n",
    "\n",
    "response = sm_runtime.invoke_endpoint(\n",
    "    EndpointName=endpoint_name,\n",
    "    ContentType=\"application/json\",\n",
    "    Accept=\"application/json\",\n",
    "    Body=payload,\n",
    ")\n",
    "\n",
    "out = json.loads(response[\"Body\"].read().decode(\"utf-8\"))\n",
    "try:\n",
    "    base64_string = out[\"body\"][\"images\"][0]\n",
    "    image_data = base64.b64decode(base64_string)\n",
    "    image = Image.open(io.BytesIO(image_data))\n",
    "    display(image)\n",
    "\n",
    "except:\n",
    "    print(out)"
   ]
  },
  {
   "cell_type": "markdown",
   "id": "bea26852-547f-493d-913c-ebc5a363fee6",
   "metadata": {
    "tags": []
   },
   "source": [
    "## <a id='toc4_2_'></a>[B: Image to image](#toc0_)\n",
    "\n",
    "To perform inference that takes an image as input, you must set the parameter `mode` to `image-to-image`, and pass an input image into `init_image` as a base64-encoded string. \n",
    "\n",
    "Images can be jpeg, png or webp format, and each side must be between 64 and 1536 pixels.\n",
    "\n",
    "\n",
    "Below is a helper function for converting images to base64-encoded strings:"
   ]
  },
  {
   "cell_type": "code",
   "execution_count": null,
   "id": "ab42cc25-2676-4e59-a199-79f7b5c6ab97",
   "metadata": {
    "tags": []
   },
   "outputs": [],
   "source": [
    "def encode_image(image_path: str, resize: bool = True, size: Tuple[int, int] = (1024, 1024)) -> Union[str, None]:\n",
    "    \"\"\"\n",
    "    Encode an image as a base64 string, optionally resizing it to a supported resolution.\n",
    "\n",
    "    Args:\n",
    "        image_path (str): The path to the image file.\n",
    "        resize (bool, optional): Whether to resize the image. Defaults to True.\n",
    "\n",
    "    Returns:\n",
    "        Union[str, None]: The encoded image as a string, or None if encoding failed.\n",
    "    \"\"\"\n",
    "    assert os.path.exists(image_path)\n",
    "\n",
    "    if resize:\n",
    "        image = Image.open(image_path)\n",
    "        image = image.resize(size)\n",
    "        image.save(\"image_path_resized.png\")\n",
    "        image_path = \"image_path_resized.png\"\n",
    "    image = Image.open(image_path)\n",
    "    assert image.size == size\n",
    "    with open(image_path, \"rb\") as image_file:\n",
    "        img_byte_array = image_file.read()\n",
    "        # Encode the byte array as a Base64 string\n",
    "        try:\n",
    "            base64_str = base64.b64encode(img_byte_array).decode(\"utf-8\")\n",
    "            return base64_str\n",
    "        except Exception as e:\n",
    "            print(f\"Failed to encode image {image_path} as base64 string.\")\n",
    "            print(e)\n",
    "            return None\n",
    "    "
   ]
  },
  {
   "cell_type": "markdown",
   "id": "9042cd6e-8d74-4930-85d6-d48c6f4fe9d1",
   "metadata": {},
   "source": [
    "Let's feed an image into the model as well as the prompt this time. We can set `strength` to weight the relative importance of the image versus the prompt. For the demo, we'll use a [picture of the cat, taken from Wikimedia Commons](https://commons.wikimedia.org/wiki/File:Cat_August_2010-4.jpg), provided along with this notebook."
   ]
  },
  {
   "cell_type": "code",
   "execution_count": null,
   "id": "9db2a91c-bd37-44ff-8f32-37114e00f581",
   "metadata": {
    "tags": []
   },
   "outputs": [],
   "source": [
    "! wget https://platform.stability.ai/Cat_August_2010-4.jpg"
   ]
  },
  {
   "cell_type": "code",
   "execution_count": null,
   "id": "aae4b4f9-3189-43c0-ae28-a54509655063",
   "metadata": {
    "tags": []
   },
   "outputs": [],
   "source": [
    "# Here is the original image:\n",
    "display(Image.open('Cat_August_2010-4.jpg'))"
   ]
  },
  {
   "cell_type": "code",
   "execution_count": null,
   "id": "43d0a7c9-b3e8-4062-80a8-e469d658f4dd",
   "metadata": {
    "tags": []
   },
   "outputs": [],
   "source": [
    "cat_path = \"Cat_August_2010-4.jpg\"\n",
    "\n",
    "size = (1536, 640)\n",
    "cat_data = encode_image(cat_path, size=size)\n",
    "\n",
    "\n",
    "params = {\n",
    "    \"prompt\": \"a child's painting of a cat, painted with bright paints\",\n",
    "    \"seed\": 123,\n",
    "    \"output_format\": \"jpeg\",\n",
    "    \"mode\": \"image-to-image\",\n",
    "    \"image\": cat_data,\n",
    "    \"strength\": 0.8,\n",
    "}\n",
    "payload = json.dumps(params).encode(\"utf-8\")\n",
    "\n",
    "output = sm_runtime.invoke_endpoint(\n",
    "    EndpointName=endpoint_name,\n",
    "    ContentType=\"application/json\",\n",
    "    Accept=\"application/json\",\n",
    "    Body=payload,\n",
    ")\n",
    "decode_and_show(output)"
   ]
  },
  {
   "cell_type": "markdown",
   "id": "56eaa205-59c3-4401-b87c-63cabca2aa4f",
   "metadata": {},
   "source": [
    "# <a id='toc5_'></a>[3: Delete the endpoint](#toc0_)\n",
    "\n",
    "When you've finished working, you can delete the endpoint to release the EC2 instance(s) associated with it, and stop billing.\n",
    "\n",
    "Get your list of Sagemaker endpoints using the AWS Sagemaker CLI like this:"
   ]
  },
  {
   "cell_type": "code",
   "execution_count": null,
   "id": "8e94c334-be2a-4b63-940d-54f707164194",
   "metadata": {
    "tags": []
   },
   "outputs": [],
   "source": [
    "!aws sagemaker list-endpoints"
   ]
  },
  {
   "cell_type": "markdown",
   "id": "3cecf112-d475-4371-a36e-70643a2a5b96",
   "metadata": {},
   "source": [
    "# Delete an endpoint"
   ]
  },
  {
   "cell_type": "code",
   "execution_count": null,
   "id": "5421cb7a",
   "metadata": {},
   "outputs": [],
   "source": [
    "deployed_model.sagemaker_session.delete_endpoint(endpoint_name)\n",
    "# Rerun the aws cli command above to confirm that its gone."
   ]
  }
 ],
 "metadata": {
  "availableInstances": [
   {
    "_defaultOrder": 0,
    "_isFastLaunch": true,
    "category": "General purpose",
    "gpuNum": 0,
    "hideHardwareSpecs": false,
    "memoryGiB": 4,
    "name": "ml.t3.medium",
    "vcpuNum": 2
   },
   {
    "_defaultOrder": 1,
    "_isFastLaunch": false,
    "category": "General purpose",
    "gpuNum": 0,
    "hideHardwareSpecs": false,
    "memoryGiB": 8,
    "name": "ml.t3.large",
    "vcpuNum": 2
   },
   {
    "_defaultOrder": 2,
    "_isFastLaunch": false,
    "category": "General purpose",
    "gpuNum": 0,
    "hideHardwareSpecs": false,
    "memoryGiB": 16,
    "name": "ml.t3.xlarge",
    "vcpuNum": 4
   },
   {
    "_defaultOrder": 3,
    "_isFastLaunch": false,
    "category": "General purpose",
    "gpuNum": 0,
    "hideHardwareSpecs": false,
    "memoryGiB": 32,
    "name": "ml.t3.2xlarge",
    "vcpuNum": 8
   },
   {
    "_defaultOrder": 4,
    "_isFastLaunch": true,
    "category": "General purpose",
    "gpuNum": 0,
    "hideHardwareSpecs": false,
    "memoryGiB": 8,
    "name": "ml.m5.large",
    "vcpuNum": 2
   },
   {
    "_defaultOrder": 5,
    "_isFastLaunch": false,
    "category": "General purpose",
    "gpuNum": 0,
    "hideHardwareSpecs": false,
    "memoryGiB": 16,
    "name": "ml.m5.xlarge",
    "vcpuNum": 4
   },
   {
    "_defaultOrder": 6,
    "_isFastLaunch": false,
    "category": "General purpose",
    "gpuNum": 0,
    "hideHardwareSpecs": false,
    "memoryGiB": 32,
    "name": "ml.m5.2xlarge",
    "vcpuNum": 8
   },
   {
    "_defaultOrder": 7,
    "_isFastLaunch": false,
    "category": "General purpose",
    "gpuNum": 0,
    "hideHardwareSpecs": false,
    "memoryGiB": 64,
    "name": "ml.m5.4xlarge",
    "vcpuNum": 16
   },
   {
    "_defaultOrder": 8,
    "_isFastLaunch": false,
    "category": "General purpose",
    "gpuNum": 0,
    "hideHardwareSpecs": false,
    "memoryGiB": 128,
    "name": "ml.m5.8xlarge",
    "vcpuNum": 32
   },
   {
    "_defaultOrder": 9,
    "_isFastLaunch": false,
    "category": "General purpose",
    "gpuNum": 0,
    "hideHardwareSpecs": false,
    "memoryGiB": 192,
    "name": "ml.m5.12xlarge",
    "vcpuNum": 48
   },
   {
    "_defaultOrder": 10,
    "_isFastLaunch": false,
    "category": "General purpose",
    "gpuNum": 0,
    "hideHardwareSpecs": false,
    "memoryGiB": 256,
    "name": "ml.m5.16xlarge",
    "vcpuNum": 64
   },
   {
    "_defaultOrder": 11,
    "_isFastLaunch": false,
    "category": "General purpose",
    "gpuNum": 0,
    "hideHardwareSpecs": false,
    "memoryGiB": 384,
    "name": "ml.m5.24xlarge",
    "vcpuNum": 96
   },
   {
    "_defaultOrder": 12,
    "_isFastLaunch": false,
    "category": "General purpose",
    "gpuNum": 0,
    "hideHardwareSpecs": false,
    "memoryGiB": 8,
    "name": "ml.m5d.large",
    "vcpuNum": 2
   },
   {
    "_defaultOrder": 13,
    "_isFastLaunch": false,
    "category": "General purpose",
    "gpuNum": 0,
    "hideHardwareSpecs": false,
    "memoryGiB": 16,
    "name": "ml.m5d.xlarge",
    "vcpuNum": 4
   },
   {
    "_defaultOrder": 14,
    "_isFastLaunch": false,
    "category": "General purpose",
    "gpuNum": 0,
    "hideHardwareSpecs": false,
    "memoryGiB": 32,
    "name": "ml.m5d.2xlarge",
    "vcpuNum": 8
   },
   {
    "_defaultOrder": 15,
    "_isFastLaunch": false,
    "category": "General purpose",
    "gpuNum": 0,
    "hideHardwareSpecs": false,
    "memoryGiB": 64,
    "name": "ml.m5d.4xlarge",
    "vcpuNum": 16
   },
   {
    "_defaultOrder": 16,
    "_isFastLaunch": false,
    "category": "General purpose",
    "gpuNum": 0,
    "hideHardwareSpecs": false,
    "memoryGiB": 128,
    "name": "ml.m5d.8xlarge",
    "vcpuNum": 32
   },
   {
    "_defaultOrder": 17,
    "_isFastLaunch": false,
    "category": "General purpose",
    "gpuNum": 0,
    "hideHardwareSpecs": false,
    "memoryGiB": 192,
    "name": "ml.m5d.12xlarge",
    "vcpuNum": 48
   },
   {
    "_defaultOrder": 18,
    "_isFastLaunch": false,
    "category": "General purpose",
    "gpuNum": 0,
    "hideHardwareSpecs": false,
    "memoryGiB": 256,
    "name": "ml.m5d.16xlarge",
    "vcpuNum": 64
   },
   {
    "_defaultOrder": 19,
    "_isFastLaunch": false,
    "category": "General purpose",
    "gpuNum": 0,
    "hideHardwareSpecs": false,
    "memoryGiB": 384,
    "name": "ml.m5d.24xlarge",
    "vcpuNum": 96
   },
   {
    "_defaultOrder": 20,
    "_isFastLaunch": false,
    "category": "General purpose",
    "gpuNum": 0,
    "hideHardwareSpecs": true,
    "memoryGiB": 0,
    "name": "ml.geospatial.interactive",
    "supportedImageNames": [
     "sagemaker-geospatial-v1-0"
    ],
    "vcpuNum": 0
   },
   {
    "_defaultOrder": 21,
    "_isFastLaunch": true,
    "category": "Compute optimized",
    "gpuNum": 0,
    "hideHardwareSpecs": false,
    "memoryGiB": 4,
    "name": "ml.c5.large",
    "vcpuNum": 2
   },
   {
    "_defaultOrder": 22,
    "_isFastLaunch": false,
    "category": "Compute optimized",
    "gpuNum": 0,
    "hideHardwareSpecs": false,
    "memoryGiB": 8,
    "name": "ml.c5.xlarge",
    "vcpuNum": 4
   },
   {
    "_defaultOrder": 23,
    "_isFastLaunch": false,
    "category": "Compute optimized",
    "gpuNum": 0,
    "hideHardwareSpecs": false,
    "memoryGiB": 16,
    "name": "ml.c5.2xlarge",
    "vcpuNum": 8
   },
   {
    "_defaultOrder": 24,
    "_isFastLaunch": false,
    "category": "Compute optimized",
    "gpuNum": 0,
    "hideHardwareSpecs": false,
    "memoryGiB": 32,
    "name": "ml.c5.4xlarge",
    "vcpuNum": 16
   },
   {
    "_defaultOrder": 25,
    "_isFastLaunch": false,
    "category": "Compute optimized",
    "gpuNum": 0,
    "hideHardwareSpecs": false,
    "memoryGiB": 72,
    "name": "ml.c5.9xlarge",
    "vcpuNum": 36
   },
   {
    "_defaultOrder": 26,
    "_isFastLaunch": false,
    "category": "Compute optimized",
    "gpuNum": 0,
    "hideHardwareSpecs": false,
    "memoryGiB": 96,
    "name": "ml.c5.12xlarge",
    "vcpuNum": 48
   },
   {
    "_defaultOrder": 27,
    "_isFastLaunch": false,
    "category": "Compute optimized",
    "gpuNum": 0,
    "hideHardwareSpecs": false,
    "memoryGiB": 144,
    "name": "ml.c5.18xlarge",
    "vcpuNum": 72
   },
   {
    "_defaultOrder": 28,
    "_isFastLaunch": false,
    "category": "Compute optimized",
    "gpuNum": 0,
    "hideHardwareSpecs": false,
    "memoryGiB": 192,
    "name": "ml.c5.24xlarge",
    "vcpuNum": 96
   },
   {
    "_defaultOrder": 29,
    "_isFastLaunch": true,
    "category": "Accelerated computing",
    "gpuNum": 1,
    "hideHardwareSpecs": false,
    "memoryGiB": 16,
    "name": "ml.g4dn.xlarge",
    "vcpuNum": 4
   },
   {
    "_defaultOrder": 30,
    "_isFastLaunch": false,
    "category": "Accelerated computing",
    "gpuNum": 1,
    "hideHardwareSpecs": false,
    "memoryGiB": 32,
    "name": "ml.g4dn.2xlarge",
    "vcpuNum": 8
   },
   {
    "_defaultOrder": 31,
    "_isFastLaunch": false,
    "category": "Accelerated computing",
    "gpuNum": 1,
    "hideHardwareSpecs": false,
    "memoryGiB": 64,
    "name": "ml.g4dn.4xlarge",
    "vcpuNum": 16
   },
   {
    "_defaultOrder": 32,
    "_isFastLaunch": false,
    "category": "Accelerated computing",
    "gpuNum": 1,
    "hideHardwareSpecs": false,
    "memoryGiB": 128,
    "name": "ml.g4dn.8xlarge",
    "vcpuNum": 32
   },
   {
    "_defaultOrder": 33,
    "_isFastLaunch": false,
    "category": "Accelerated computing",
    "gpuNum": 4,
    "hideHardwareSpecs": false,
    "memoryGiB": 192,
    "name": "ml.g4dn.12xlarge",
    "vcpuNum": 48
   },
   {
    "_defaultOrder": 34,
    "_isFastLaunch": false,
    "category": "Accelerated computing",
    "gpuNum": 1,
    "hideHardwareSpecs": false,
    "memoryGiB": 256,
    "name": "ml.g4dn.16xlarge",
    "vcpuNum": 64
   },
   {
    "_defaultOrder": 35,
    "_isFastLaunch": false,
    "category": "Accelerated computing",
    "gpuNum": 1,
    "hideHardwareSpecs": false,
    "memoryGiB": 61,
    "name": "ml.p3.2xlarge",
    "vcpuNum": 8
   },
   {
    "_defaultOrder": 36,
    "_isFastLaunch": false,
    "category": "Accelerated computing",
    "gpuNum": 4,
    "hideHardwareSpecs": false,
    "memoryGiB": 244,
    "name": "ml.p3.8xlarge",
    "vcpuNum": 32
   },
   {
    "_defaultOrder": 37,
    "_isFastLaunch": false,
    "category": "Accelerated computing",
    "gpuNum": 8,
    "hideHardwareSpecs": false,
    "memoryGiB": 488,
    "name": "ml.p3.16xlarge",
    "vcpuNum": 64
   },
   {
    "_defaultOrder": 38,
    "_isFastLaunch": false,
    "category": "Accelerated computing",
    "gpuNum": 8,
    "hideHardwareSpecs": false,
    "memoryGiB": 768,
    "name": "ml.p3dn.24xlarge",
    "vcpuNum": 96
   },
   {
    "_defaultOrder": 39,
    "_isFastLaunch": false,
    "category": "Memory Optimized",
    "gpuNum": 0,
    "hideHardwareSpecs": false,
    "memoryGiB": 16,
    "name": "ml.r5.large",
    "vcpuNum": 2
   },
   {
    "_defaultOrder": 40,
    "_isFastLaunch": false,
    "category": "Memory Optimized",
    "gpuNum": 0,
    "hideHardwareSpecs": false,
    "memoryGiB": 32,
    "name": "ml.r5.xlarge",
    "vcpuNum": 4
   },
   {
    "_defaultOrder": 41,
    "_isFastLaunch": false,
    "category": "Memory Optimized",
    "gpuNum": 0,
    "hideHardwareSpecs": false,
    "memoryGiB": 64,
    "name": "ml.r5.2xlarge",
    "vcpuNum": 8
   },
   {
    "_defaultOrder": 42,
    "_isFastLaunch": false,
    "category": "Memory Optimized",
    "gpuNum": 0,
    "hideHardwareSpecs": false,
    "memoryGiB": 128,
    "name": "ml.r5.4xlarge",
    "vcpuNum": 16
   },
   {
    "_defaultOrder": 43,
    "_isFastLaunch": false,
    "category": "Memory Optimized",
    "gpuNum": 0,
    "hideHardwareSpecs": false,
    "memoryGiB": 256,
    "name": "ml.r5.8xlarge",
    "vcpuNum": 32
   },
   {
    "_defaultOrder": 44,
    "_isFastLaunch": false,
    "category": "Memory Optimized",
    "gpuNum": 0,
    "hideHardwareSpecs": false,
    "memoryGiB": 384,
    "name": "ml.r5.12xlarge",
    "vcpuNum": 48
   },
   {
    "_defaultOrder": 45,
    "_isFastLaunch": false,
    "category": "Memory Optimized",
    "gpuNum": 0,
    "hideHardwareSpecs": false,
    "memoryGiB": 512,
    "name": "ml.r5.16xlarge",
    "vcpuNum": 64
   },
   {
    "_defaultOrder": 46,
    "_isFastLaunch": false,
    "category": "Memory Optimized",
    "gpuNum": 0,
    "hideHardwareSpecs": false,
    "memoryGiB": 768,
    "name": "ml.r5.24xlarge",
    "vcpuNum": 96
   },
   {
    "_defaultOrder": 47,
    "_isFastLaunch": false,
    "category": "Accelerated computing",
    "gpuNum": 1,
    "hideHardwareSpecs": false,
    "memoryGiB": 16,
    "name": "ml.g5.xlarge",
    "vcpuNum": 4
   },
   {
    "_defaultOrder": 48,
    "_isFastLaunch": false,
    "category": "Accelerated computing",
    "gpuNum": 1,
    "hideHardwareSpecs": false,
    "memoryGiB": 32,
    "name": "ml.g5.2xlarge",
    "vcpuNum": 8
   },
   {
    "_defaultOrder": 49,
    "_isFastLaunch": false,
    "category": "Accelerated computing",
    "gpuNum": 1,
    "hideHardwareSpecs": false,
    "memoryGiB": 64,
    "name": "ml.g5.4xlarge",
    "vcpuNum": 16
   },
   {
    "_defaultOrder": 50,
    "_isFastLaunch": false,
    "category": "Accelerated computing",
    "gpuNum": 1,
    "hideHardwareSpecs": false,
    "memoryGiB": 128,
    "name": "ml.g5.8xlarge",
    "vcpuNum": 32
   },
   {
    "_defaultOrder": 51,
    "_isFastLaunch": false,
    "category": "Accelerated computing",
    "gpuNum": 1,
    "hideHardwareSpecs": false,
    "memoryGiB": 256,
    "name": "ml.g5.16xlarge",
    "vcpuNum": 64
   },
   {
    "_defaultOrder": 52,
    "_isFastLaunch": false,
    "category": "Accelerated computing",
    "gpuNum": 4,
    "hideHardwareSpecs": false,
    "memoryGiB": 192,
    "name": "ml.g5.12xlarge",
    "vcpuNum": 48
   },
   {
    "_defaultOrder": 53,
    "_isFastLaunch": false,
    "category": "Accelerated computing",
    "gpuNum": 4,
    "hideHardwareSpecs": false,
    "memoryGiB": 384,
    "name": "ml.g5.24xlarge",
    "vcpuNum": 96
   },
   {
    "_defaultOrder": 54,
    "_isFastLaunch": false,
    "category": "Accelerated computing",
    "gpuNum": 8,
    "hideHardwareSpecs": false,
    "memoryGiB": 768,
    "name": "ml.g5.48xlarge",
    "vcpuNum": 192
   },
   {
    "_defaultOrder": 55,
    "_isFastLaunch": false,
    "category": "Accelerated computing",
    "gpuNum": 8,
    "hideHardwareSpecs": false,
    "memoryGiB": 1152,
    "name": "ml.p4d.24xlarge",
    "vcpuNum": 96
   },
   {
    "_defaultOrder": 56,
    "_isFastLaunch": false,
    "category": "Accelerated computing",
    "gpuNum": 8,
    "hideHardwareSpecs": false,
    "memoryGiB": 1152,
    "name": "ml.p4de.24xlarge",
    "vcpuNum": 96
   }
  ],
  "instance_type": "ml.t3.2xlarge",
  "kernelspec": {
   "display_name": "sagemaker",
   "language": "python",
   "name": "python3"
  },
  "language_info": {
   "codemirror_mode": {
    "name": "ipython",
    "version": 3
   },
   "file_extension": ".py",
   "mimetype": "text/x-python",
   "name": "python",
   "nbconvert_exporter": "python",
   "pygments_lexer": "ipython3",
   "version": "3.10.9"
  }
 },
 "nbformat": 4,
 "nbformat_minor": 5
}
